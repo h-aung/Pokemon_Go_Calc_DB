{
 "cells": [
  {
   "cell_type": "markdown",
   "metadata": {
    "jp-MarkdownHeadingCollapsed": true,
    "tags": []
   },
   "source": [
    "# Imports"
   ]
  },
  {
   "cell_type": "code",
   "execution_count": 1,
   "metadata": {
    "collapsed": false,
    "jupyter": {
     "outputs_hidden": false
    },
    "tags": []
   },
   "outputs": [
    {
     "name": "stdout",
     "output_type": "stream",
     "text": [
      "    Database established!!!\n"
     ]
    }
   ],
   "source": [
    "#imports\n",
    "import numpy as np\n",
    "import gocalc_db"
   ]
  },
  {
   "cell_type": "markdown",
   "metadata": {
    "jp-MarkdownHeadingCollapsed": true,
    "tags": []
   },
   "source": [
    "# Update GM before start"
   ]
  },
  {
   "cell_type": "code",
   "execution_count": 2,
   "metadata": {
    "collapsed": false,
    "jupyter": {
     "outputs_hidden": false
    }
   },
   "outputs": [
    {
     "name": "stdout",
     "output_type": "stream",
     "text": [
      "https://raw.githubusercontent.com/PokeMiners/game_masters/master/latest/latest.json\n",
      "    Previous database closed!!!\n",
      "    Reducing the downloaded Game Master file ... \n",
      "    Added sunrise cup data ...\n",
      "    Added halloween cup data ...\n",
      "    Added toxic cup data ...\n",
      "    Added twilight cup data ...\n",
      "    Added ferocious cup data ...\n",
      "    Added temptest cup data ...\n",
      "    Successful!!!\n",
      "    Database established!!!\n"
     ]
    }
   ],
   "source": [
    "#url=None\n",
    "#url=\"https://raw.githubusercontent.com/PokeMiners/game_masters/master/previous_game_masters/gm_v2_apk1930_2020.11.23-16.16.33/game_master.json\"\n",
    "#url=\"https://raw.githubusercontent.com/PokeMiners/game_masters/master/latest/latest.json\"\n",
    "gocalc_db.get_gm_url()\n",
    "gocalc_db.update_gm(no_download=True)"
   ]
  },
  {
   "cell_type": "markdown",
   "metadata": {
    "tags": []
   },
   "source": [
    "# Calculate Catch Rates and Candies Gain"
   ]
  },
  {
   "cell_type": "code",
   "execution_count": 6,
   "metadata": {
    "collapsed": false,
    "jupyter": {
     "outputs_hidden": false
    }
   },
   "outputs": [
    {
     "data": {
      "text/plain": [
       "0.8725374638997236"
      ]
     },
     "execution_count": 6,
     "metadata": {},
     "output_type": "execute_result"
    }
   ],
   "source": [
    "pok = gocalc_db.Catch(pokemon='moltres_galarian')\n",
    "pok.catch_prob(berry='razz',curve=True,throw='great',medal1='gold',lvl=30,number=20)"
   ]
  },
  {
   "cell_type": "code",
   "execution_count": 4,
   "metadata": {
    "collapsed": false,
    "jupyter": {
     "outputs_hidden": false
    }
   },
   "outputs": [
    {
     "name": "stdout",
     "output_type": "stream",
     "text": [
      "Catch probability is 96.91% and on average gain 15.3 candies\n"
     ]
    }
   ],
   "source": [
    "chance, candies = pok.combine_candies(first_number=5,curve=True,throw='great',\n",
    "                        first='pinap',second='golden',\n",
    "                        chances=True,medal1='gold',medal2='gold',raid=True,weather=True,\n",
    "                        number=14)\n",
    "print(\"Catch probability is %.2f%% and on average gain %.1f candies\"%(chance*100, candies))"
   ]
  },
  {
   "cell_type": "markdown",
   "metadata": {
    "jp-MarkdownHeadingCollapsed": true,
    "tags": []
   },
   "source": [
    "# Calculate IV's or CP's"
   ]
  },
  {
   "cell_type": "code",
   "execution_count": 5,
   "metadata": {
    "collapsed": false,
    "jupyter": {
     "outputs_hidden": false
    }
   },
   "outputs": [
    {
     "name": "stdout",
     "output_type": "stream",
     "text": [
      "Possible IV's: \n",
      " level atk def hp percent\n",
      " 19.0  11  15  13 86.7%\n",
      " 19.0  12  11  13 80.0%\n",
      " 19.0  13  09  12 75.6%\n",
      " 19.0  13  07  13 73.3%\n",
      " 19.0  14  05  12 68.9%\n",
      " 20.0  06  14  08 62.2%\n",
      " 20.0  07  10  08 55.6%\n",
      " 20.0  08  06  08 48.9%\n",
      " 20.0  09  02  08 42.2%\n"
     ]
    }
   ],
   "source": [
    "pok = gocalc_db.CalcIV('probopass')\n",
    "iv = pok.iv(1092,97,stardust=2500,catch=True)"
   ]
  },
  {
   "cell_type": "code",
   "execution_count": 6,
   "metadata": {
    "collapsed": false,
    "jupyter": {
     "outputs_hidden": false
    }
   },
   "outputs": [
    {
     "name": "stdout",
     "output_type": "stream",
     "text": [
      "Possible IV's: \n",
      " level atk def hp percent\n",
      " 27.0  09  13  12 75.6%\n",
      " 27.0  09  11  13 73.3%\n",
      " 27.0  10  08  12 66.7%\n",
      " 27.0  10  06  13 64.4%\n",
      " 27.0  11  03  12 57.8%\n",
      " 27.0  11  01  13 55.6%\n"
     ]
    }
   ],
   "source": [
    "pok2 = gocalc_db.CalcIV('nosepass')\n",
    "iv = pok2.iv(706,79,stardust=4500,catch=True)"
   ]
  },
  {
   "cell_type": "code",
   "execution_count": 7,
   "metadata": {
    "collapsed": false,
    "jupyter": {
     "outputs_hidden": false
    }
   },
   "outputs": [
    {
     "name": "stdout",
     "output_type": "stream",
     "text": [
      "The pokemon max cp possible is 1493 at lvl 26.5 and has stat product/tdo of 2235830.0\n"
     ]
    }
   ],
   "source": [
    "cp, lvl, tdo = pok.pvpcp(iv=[9,13,12],league='great',stat=True)\n",
    "print(\"The pokemon max cp possible is %d at lvl %.1f and has stat product/tdo of %.1f\"%(cp,lvl,tdo))"
   ]
  },
  {
   "cell_type": "markdown",
   "metadata": {
    "tags": []
   },
   "source": [
    "# Calculate DPS"
   ]
  },
  {
   "cell_type": "code",
   "execution_count": 8,
   "metadata": {
    "collapsed": false,
    "jupyter": {
     "outputs_hidden": false
    }
   },
   "outputs": [
    {
     "data": {
      "text/plain": [
       "30.746268656716417"
      ]
     },
     "execution_count": 8,
     "metadata": {},
     "output_type": "execute_result"
    }
   ],
   "source": [
    "time = 100000\n",
    "pok_def = gocalc_db.indiPok('machamp',raid=4,iv=[15,15,15])\n",
    "pok_atk = gocalc_db.indiPok('alakazam',level = 40.,iv=[15,15,15],fmove='confusion',cmove='psychic')\n",
    "gocalc_db.dps(pok_atk, pok_def,timelimit=time)"
   ]
  },
  {
   "cell_type": "code",
   "execution_count": 9,
   "metadata": {
    "collapsed": false,
    "jupyter": {
     "outputs_hidden": false
    }
   },
   "outputs": [
    {
     "data": {
      "text/plain": [
       "36.46601941747573"
      ]
     },
     "execution_count": 9,
     "metadata": {},
     "output_type": "execute_result"
    }
   ],
   "source": [
    "pok_atk = gocalc_db.indiPok('mewtwo',level = 40.,iv=[15,15,15],fmove='confusion',cmove='psystrike')\n",
    "gocalc_db.dps(pok_atk, pok_def,timelimit=time)"
   ]
  },
  {
   "cell_type": "code",
   "execution_count": 10,
   "metadata": {
    "collapsed": false,
    "jupyter": {
     "outputs_hidden": false
    }
   },
   "outputs": [
    {
     "data": {
      "text/plain": [
       "22.417910447761194"
      ]
     },
     "execution_count": 10,
     "metadata": {},
     "output_type": "execute_result"
    }
   ],
   "source": [
    "pok_def = gocalc_db.indiPok('skarmory',raid=3)\n",
    "pok_atk = gocalc_db.indiPok('electivire',level = 40.,iv=[15,15,15],fmove='thunder shock',cmove='wild charge')\n",
    "gocalc_db.dps(pok_atk, pok_def,timelimit=time)"
   ]
  },
  {
   "cell_type": "code",
   "execution_count": 11,
   "metadata": {
    "collapsed": false,
    "jupyter": {
     "outputs_hidden": false
    }
   },
   "outputs": [
    {
     "data": {
      "text/plain": [
       "22.92233009708738"
      ]
     },
     "execution_count": 11,
     "metadata": {},
     "output_type": "execute_result"
    }
   ],
   "source": [
    "pok_def = gocalc_db.indiPok('giratina',raid=5,iv=[15,15,15])\n",
    "pok_atk = gocalc_db.indiPok('salamence',level = 40.,iv=[15,15,15],fmove='dragon tail',cmove='outrage')\n",
    "gocalc_db.dps(pok_atk, pok_def,timelimit=time)"
   ]
  },
  {
   "cell_type": "code",
   "execution_count": 12,
   "metadata": {
    "collapsed": false,
    "jupyter": {
     "outputs_hidden": false
    }
   },
   "outputs": [
    {
     "data": {
      "text/plain": [
       "23.21359223300971"
      ]
     },
     "execution_count": 12,
     "metadata": {},
     "output_type": "execute_result"
    }
   ],
   "source": [
    "pok_def = gocalc_db.indiPok('giratina',raid=5,iv=[15,15,15])\n",
    "pok_atk = gocalc_db.indiPok('rayquaza',level = 40.,iv=[15,15,15],fmove='dragon tail',cmove='outrage')\n",
    "gocalc_db.dps(pok_atk, pok_def,timelimit=time)"
   ]
  },
  {
   "cell_type": "code",
   "execution_count": 13,
   "metadata": {
    "collapsed": false,
    "jupyter": {
     "outputs_hidden": false
    }
   },
   "outputs": [
    {
     "data": {
      "text/plain": [
       "24.831683168316832"
      ]
     },
     "execution_count": 13,
     "metadata": {},
     "output_type": "execute_result"
    }
   ],
   "source": [
    "pok_def = gocalc_db.indiPok('moltres',raid=5)\n",
    "pok_atk = gocalc_db.indiPok('greninja',level = 40.,iv=[15,15,15],fmove='bubble',cmove='hydro cannon')\n",
    "gocalc_db.dps(pok_atk, pok_def,timelimit=time)"
   ]
  },
  {
   "cell_type": "code",
   "execution_count": 14,
   "metadata": {
    "collapsed": false,
    "jupyter": {
     "outputs_hidden": false
    }
   },
   "outputs": [
    {
     "data": {
      "text/plain": [
       "20.686567164179106"
      ]
     },
     "execution_count": 14,
     "metadata": {},
     "output_type": "execute_result"
    }
   ],
   "source": [
    "pok_def = gocalc_db.indiPok('giratina',raid=5,iv=[15,15,15])\n",
    "pok_atk = gocalc_db.indiPok('tyranitar',level = 40.,iv=[15,15,15],fmove='bite',cmove='brutal_swing')\n",
    "gocalc_db.dps(pok_atk, pok_def,timelimit=time)"
   ]
  },
  {
   "cell_type": "code",
   "execution_count": 15,
   "metadata": {
    "collapsed": false,
    "jupyter": {
     "outputs_hidden": false
    }
   },
   "outputs": [
    {
     "data": {
      "text/plain": [
       "15.900497512437811"
      ]
     },
     "execution_count": 15,
     "metadata": {},
     "output_type": "execute_result"
    }
   ],
   "source": [
    "pok_def = gocalc_db.indiPok('giratina',raid=5,iv=[15,15,15])\n",
    "pok_atk = gocalc_db.indiPok('krookodile',level = 40.,iv=[15,15,15],fmove='bite',cmove='crunch')\n",
    "gocalc_db.dps(pok_atk, pok_def,timelimit=time)"
   ]
  },
  {
   "cell_type": "code",
   "execution_count": 16,
   "metadata": {
    "tags": []
   },
   "outputs": [
    {
     "data": {
      "text/plain": [
       "29.19402985074627"
      ]
     },
     "execution_count": 16,
     "metadata": {},
     "output_type": "execute_result"
    }
   ],
   "source": [
    "pok_atk = gocalc_db.indiPok('necrozma_dawn_wings',level = 40.,iv=[15,15,15],fmove='shadow_claw',cmove='moongeist_beam')\n",
    "gocalc_db.dps(pok_atk, pok_def,timelimit=time)"
   ]
  },
  {
   "cell_type": "code",
   "execution_count": null,
   "metadata": {},
   "outputs": [],
   "source": []
  },
  {
   "cell_type": "markdown",
   "metadata": {
    "jp-MarkdownHeadingCollapsed": true,
    "tags": []
   },
   "source": [
    "# Check Breakpoint"
   ]
  },
  {
   "cell_type": "code",
   "execution_count": 17,
   "metadata": {
    "collapsed": false,
    "jupyter": {
     "outputs_hidden": false
    }
   },
   "outputs": [
    {
     "name": "stdout",
     "output_type": "stream",
     "text": [
      "The breakpoints are at level and damage:\n",
      "    At 20.5, dmg=5 to at 21.0, dmg=6\n",
      "    At 30.0, dmg=6 to at 30.5, dmg=7\n"
     ]
    }
   ],
   "source": [
    "dommy = gocalc_db.BreakPoint('giratina_origin','shadow claw','gengar_mega','5')\n",
    "dommy.bp(friend=0,weather=False,iv=15)"
   ]
  },
  {
   "cell_type": "code",
   "execution_count": 18,
   "metadata": {
    "collapsed": false,
    "jupyter": {
     "outputs_hidden": false
    }
   },
   "outputs": [
    {
     "name": "stdout",
     "output_type": "stream",
     "text": [
      "The breakpoints are at level and damage:\n",
      "    At 26.0, dmg=7 to at 26.5, dmg=8\n",
      "    At 38.0, dmg=8 to at 38.5, dmg=9\n"
     ]
    }
   ],
   "source": [
    "dommy = gocalc_db.BreakPoint('mewtwo','psycho cut','gengar','5')\n",
    "dommy.bp(friend=4,weather=False,iv=15)"
   ]
  },
  {
   "cell_type": "code",
   "execution_count": 19,
   "metadata": {
    "collapsed": false,
    "jupyter": {
     "outputs_hidden": false
    }
   },
   "outputs": [
    {
     "name": "stdout",
     "output_type": "stream",
     "text": [
      "The breakpoints are at level and damage:\n",
      "    At 21.0, dmg=24 to at 21.5, dmg=25\n",
      "    At 22.5, dmg=25 to at 23.0, dmg=26\n",
      "    At 24.5, dmg=26 to at 25.0, dmg=27\n",
      "    At 26.5, dmg=27 to at 27.0, dmg=28\n",
      "    At 28.5, dmg=28 to at 29.0, dmg=29\n",
      "    At 31.0, dmg=29 to at 31.5, dmg=30\n",
      "    At 35.5, dmg=30 to at 36.0, dmg=31\n",
      "    At 40.0, dmg=31 to at 40.5, dmg=32\n",
      "    At 45.0, dmg=32 to at 45.5, dmg=33\n",
      "    At 50.0, dmg=33 to at 50.5, dmg=34\n"
     ]
    }
   ],
   "source": [
    "dommy = gocalc_db.BreakPoint('excadrill','mud slap','raikou','5')\n",
    "dommy.bp(friend=4,weather=True,iv=15)"
   ]
  },
  {
   "cell_type": "code",
   "execution_count": null,
   "metadata": {
    "tags": []
   },
   "outputs": [],
   "source": []
  },
  {
   "cell_type": "code",
   "execution_count": 20,
   "metadata": {
    "collapsed": false,
    "jupyter": {
     "outputs_hidden": false
    }
   },
   "outputs": [
    {
     "name": "stdout",
     "output_type": "stream",
     "text": [
      "The breakpoints are at level and damage:\n",
      "    At 23.0, dmg=10 to at 23.5, dmg=11\n",
      "    At 28.0, dmg=11 to at 28.5, dmg=12\n",
      "    At 36.5, dmg=12 to at 37.0, dmg=13\n",
      "    At 49.0, dmg=13 to at 49.5, dmg=14\n"
     ]
    }
   ],
   "source": [
    "dommy = gocalc_db.BreakPoint('mamoswine','powder snow','dragonite',40,pvp=True)\n",
    "dommy.bp(friend=4,weather=False,iv=15)"
   ]
  },
  {
   "cell_type": "markdown",
   "metadata": {
    "tags": []
   },
   "source": [
    "# Miscellaneous DB Exploration"
   ]
  },
  {
   "cell_type": "markdown",
   "metadata": {
    "jp-MarkdownHeadingCollapsed": true,
    "tags": []
   },
   "source": [
    "### Check the possible move set"
   ]
  },
  {
   "cell_type": "code",
   "execution_count": 21,
   "metadata": {
    "collapsed": false,
    "jupyter": {
     "outputs_hidden": false
    }
   },
   "outputs": [
    {
     "name": "stdout",
     "output_type": "stream",
     "text": [
      "ampharos_mega brutal_swing\n",
      "bagon crunch\n",
      "bagon bite_fast\n",
      "salamence bite_fast\n",
      "salamence_mega bite_fast\n",
      "fraxure night_slash\n",
      "haxorus night_slash\n",
      "druddigon night_slash\n",
      "druddigon bite_fast\n",
      "deino crunch\n",
      "zweilous bite_fast\n",
      "zweilous dark_pulse\n",
      "hydreigon bite_fast\n",
      "hydreigon dark_pulse\n",
      "hydreigon brutal_swing\n",
      "reshiram crunch\n",
      "zekrom crunch\n",
      "tyrantrum crunch\n",
      "noibat bite_fast\n",
      "noivern bite_fast\n",
      "zygarde crunch\n",
      "zygarde bite_fast\n",
      "zygarde_complete crunch\n",
      "zygarde_complete bite_fast\n",
      "zygarde_complete_fifty_percent crunch\n",
      "zygarde_complete_fifty_percent bite_fast\n",
      "zygarde_complete_ten_percent crunch\n",
      "zygarde_complete_ten_percent bite_fast\n",
      "zygarde_fifty_percent crunch\n",
      "zygarde_fifty_percent bite_fast\n",
      "zygarde_ten_percent crunch\n",
      "zygarde_ten_percent bite_fast\n",
      "silvally_dragon bite_fast\n",
      "guzzlord snarl_fast\n",
      "guzzlord crunch\n",
      "guzzlord brutal_swing\n",
      "regidrago bite_fast\n",
      "    DONE !!!\n"
     ]
    }
   ],
   "source": [
    "gocalc_db.learn(\"pokemon_type_dark\",pokemon=\"pokemon_type_dragon\")"
   ]
  },
  {
   "cell_type": "code",
   "execution_count": 22,
   "metadata": {
    "collapsed": false,
    "jupyter": {
     "outputs_hidden": false
    }
   },
   "outputs": [
    {
     "name": "stdout",
     "output_type": "stream",
     "text": [
      "altaria \n",
      "altaria_mega \n",
      "clefable \n",
      "sylveon \n",
      "    DONE !!!\n"
     ]
    }
   ],
   "source": [
    "gocalc_db.learn([\"dazzling_gleam\",\"moonblast\"])"
   ]
  },
  {
   "cell_type": "code",
   "execution_count": 23,
   "metadata": {
    "collapsed": false,
    "jupyter": {
     "outputs_hidden": false
    }
   },
   "outputs": [
    {
     "name": "stdout",
     "output_type": "stream",
     "text": [
      "arctozolt \n",
      "arctovish \n",
      "cetoddle \n",
      "cetitan \n",
      "chienpao \n",
      "piloswine \n",
      "mamoswine \n",
      "froslass \n",
      "    DONE !!!\n"
     ]
    }
   ],
   "source": [
    "gocalc_db.learn([\"powder_snow_fast\",\"avalanche\"],pvprank=True)"
   ]
  },
  {
   "cell_type": "code",
   "execution_count": 24,
   "metadata": {
    "collapsed": false,
    "jupyter": {
     "outputs_hidden": false
    }
   },
   "outputs": [
    {
     "name": "stdout",
     "output_type": "stream",
     "text": [
      "lugia \n",
      "lugia_s \n",
      "altaria \n",
      "skarmory \n",
      "noctowl \n",
      "tranquill \n",
      "altaria_mega \n",
      "fearow \n",
      "moltres \n",
      "trumbeak \n",
      "swellow \n",
      "unfezant \n",
      "chatot \n",
      "honchkrow \n",
      "    DONE !!!\n"
     ]
    }
   ],
   "source": [
    "gocalc_db.learn(\"sky_attack\",pvprank=True)"
   ]
  },
  {
   "cell_type": "code",
   "execution_count": 25,
   "metadata": {
    "collapsed": false,
    "jupyter": {
     "outputs_hidden": false
    }
   },
   "outputs": [
    {
     "name": "stdout",
     "output_type": "stream",
     "text": [
      "throh \n",
      "lopunny \n",
      "kangaskhan \n",
      "quilladin \n",
      "chesnaught \n",
      "annihilape \n",
      "timburr \n",
      "pancham \n",
      "gurdurr \n",
      "meloetta \n",
      "kangaskhan_mega \n",
      "watchog \n",
      "machoke \n",
      "machop \n",
      "hawlucha \n",
      "bewear \n",
      "elekid \n",
      "electabuzz \n",
      "pangoro \n",
      "rapidash \n",
      "rapidash_galarian \n",
      "ponyta_galarian \n",
      "keldeo \n",
      "gallade \n",
      "meloetta_pirouette \n",
      "grimmsnarl \n",
      "emboar \n",
      "zebstrika \n",
      "primeape \n",
      "sawk \n",
      "hitmonlee \n",
      "mienfoo \n",
      "electivire \n",
      "pawmot \n",
      "lopunny_mega \n",
      "mienshao \n",
      "pheromosa \n",
      "    DONE !!!\n"
     ]
    }
   ],
   "source": [
    "gocalc_db.learn(\"low_kick_fast\",pvprank=True)"
   ]
  },
  {
   "cell_type": "code",
   "execution_count": 26,
   "metadata": {
    "collapsed": false,
    "jupyter": {
     "outputs_hidden": false
    }
   },
   "outputs": [
    {
     "name": "stdout",
     "output_type": "stream",
     "text": [
      "brick_break\n",
      "fire_blast\n",
      "scorching_sands\n",
      "fire_punch\n",
      "fire_spin_fast\n",
      "psychic\n",
      "karate_chop_fast\n",
      "thunderbolt\n",
      "    DONE !!!\n"
     ]
    }
   ],
   "source": [
    "gocalc_db.learn(pokemon=\"magmortar\")"
   ]
  },
  {
   "cell_type": "code",
   "execution_count": 27,
   "metadata": {
    "tags": []
   },
   "outputs": [
    {
     "name": "stdout",
     "output_type": "stream",
     "text": [
      "ice_punch\n",
      "bubble_fast\n",
      "hydro_pump\n",
      "icy_wind\n",
      "rock_smash_fast\n",
      "power_up_punch\n",
      "scald\n",
      "mud_shot_fast\n",
      "dynamic_punch\n",
      "counter_fast\n",
      "submission\n",
      "    DONE !!!\n"
     ]
    }
   ],
   "source": [
    "gocalc_db.learn(pokemon=\"poliwrath\")"
   ]
  },
  {
   "cell_type": "markdown",
   "metadata": {},
   "source": [
    "### Pvp Move exploration"
   ]
  },
  {
   "cell_type": "code",
   "execution_count": 2,
   "metadata": {
    "tags": []
   },
   "outputs": [
    {
     "name": "stdout",
     "output_type": "stream",
     "text": [
      "Move name            :  ranking, damage, energy, turn \n",
      "incinerate_fast      : 10.00 , d=20, e=20, t=5 \n",
      "force_palm_fast      : 9.33 , d=13, e=10, t=3 \n",
      "sucker_punch_fast    : 9.25 , d= 8, e= 7, t=2 \n",
      "karate_chop_fast     : 9.25 , d= 5, e= 9, t=2 \n",
      "rollout_fast         : 9.17 , d= 8, e=13, t=3 \n",
      "astonish_fast        : 9.00 , d=12, e=10, t=3 \n",
      "psywave_fast         : 9.00 , d= 3, e= 4, t=1 \n",
      "volt_switch_fast     : 9.00 , d=12, e=16, t=4 \n",
      "water_shuriken_fast  : 9.00 , d= 6, e=14, t=3 \n",
      "shadow_claw_fast     : 9.00 , d= 6, e= 8, t=2 \n",
      "mud_slap_fast        : 9.00 , d=12, e=10, t=3 \n",
      "dragon_tail_fast     : 8.83 , d=13, e= 9, t=3 \n",
      "poison_jab_fast      : 8.75 , d= 7, e= 7, t=2 \n",
      "fairy_wind_fast      : 8.75 , d= 4, e= 9, t=2 \n",
      "poison_sting_fast    : 8.75 , d= 4, e= 9, t=2 \n",
      "fire_spin_fast       : 8.67 , d=11, e=10, t=3 \n",
      "double_kick_fast     : 8.67 , d= 8, e=12, t=3 \n",
      "confusion_fast       : 8.50 , d=16, e=12, t=4 \n",
      "quick_attack_fast    : 8.50 , d= 5, e= 8, t=2 \n",
      "vine_whip_fast       : 8.50 , d= 5, e= 8, t=2 \n",
      "lock_on_fast         : 8.50 , d= 1, e= 5, t=1 \n",
      "gust_fast            : 8.50 , d=16, e=12, t=4 \n",
      "dragon_breath_fast   : 8.50 , d= 4, e= 3, t=1 \n",
      "powder_snow_fast     : 8.50 , d= 5, e= 8, t=2 \n",
      "counter_fast         : 8.50 , d= 8, e= 6, t=2 \n",
      "magical_leaf_fast    : 8.33 , d=10, e=10, t=3 \n",
      "psycho_cut_fast      : 8.25 , d= 3, e= 9, t=2 \n",
      "bullet_punch_fast    : 8.25 , d= 6, e= 7, t=2 \n",
      "thunder_shock_fast   : 8.25 , d= 3, e= 9, t=2 \n",
      "leafage_fast         : 8.25 , d= 6, e= 7, t=2 \n",
      "bullet_seed_fast     : 8.17 , d= 5, e=13, t=3 \n",
      "snarl_fast           : 8.17 , d= 5, e=13, t=3 \n",
      "bubble_fast          : 8.17 , d= 8, e=11, t=3 \n",
      "ember_fast           : 8.00 , d= 7, e= 6, t=2 \n",
      "mud_shot_fast        : 8.00 , d= 4, e= 8, t=2 \n",
      "sand_attack_fast     : 8.00 , d= 2, e= 4, t=1 \n",
      "ice_shard_fast       : 8.00 , d= 9, e=10, t=3 \n",
      "steel_wing_fast      : 8.00 , d= 7, e= 6, t=2 \n",
      "fury_cutter_fast     : 8.00 , d= 2, e= 4, t=1 \n",
      "waterfall_fast       : 8.00 , d=12, e= 8, t=3 \n",
      "infestation_fast     : 8.00 , d= 6, e=12, t=3 \n",
      "charm_fast           : 8.00 , d=15, e= 6, t=3 \n",
      "hex_fast             : 8.00 , d= 6, e=12, t=3 \n",
      "geomancy_fast        : 7.83 , d= 4, e=13, t=3 \n",
      "ice_fang_fast        : 7.75 , d= 8, e= 5, t=2 \n",
      "fire_fang_fast       : 7.75 , d= 8, e= 5, t=2 \n",
      "wing_attack_fast     : 7.75 , d= 5, e= 7, t=2 \n",
      "thunder_fang_fast    : 7.75 , d= 8, e= 5, t=2 \n",
      "spark_fast           : 7.75 , d= 5, e= 7, t=2 \n",
      "rock_throw_fast      : 7.75 , d= 8, e= 5, t=2 \n",
      "metal_claw_fast      : 7.75 , d= 5, e= 7, t=2 \n",
      "extrasensory_fast    : 7.67 , d= 8, e=10, t=3 \n",
      "smack_down_fast      : 7.67 , d=11, e= 8, t=3 \n",
      "water_gun_fast       : 7.50 , d= 3, e= 3, t=1 \n",
      "metal_sound_fast     : 7.50 , d= 3, e= 8, t=2 \n",
      "bug_bite_fast        : 7.50 , d= 3, e= 3, t=1 \n",
      "air_slash_fast       : 7.50 , d= 9, e= 9, t=3 \n",
      "tackle_fast          : 7.50 , d= 3, e= 3, t=1 \n",
      "feint_attack_fast    : 7.50 , d= 6, e= 6, t=2 \n",
      "lick_fast            : 7.50 , d= 3, e= 3, t=1 \n",
      "razor_leaf_fast      : 7.50 , d= 9, e= 4, t=2 \n",
      "frost_breath_fast    : 7.25 , d= 7, e= 5, t=2 \n",
      "charge_beam_fast     : 7.17 , d= 5, e=11, t=3 \n",
      "present_fast         : 7.00 , d= 3, e=12, t=3 \n",
      "bite_fast            : 7.00 , d= 4, e= 2, t=1 \n",
      "scratch_fast         : 7.00 , d= 4, e= 2, t=1 \n",
      "hidden_power_fast    : 7.00 , d= 9, e= 8, t=3 \n",
      "struggle_bug_fast    : 7.00 , d= 9, e= 8, t=3 \n",
      "iron_tail_fast       : 6.83 , d=10, e= 7, t=3 \n",
      "peck_fast            : 6.75 , d= 6, e= 5, t=2 \n",
      "acid_fast            : 6.75 , d= 6, e= 5, t=2 \n",
      "rock_smash_fast      : 6.50 , d= 9, e= 7, t=3 \n",
      "cut_fast             : 6.00 , d= 3, e= 2, t=1 \n",
      "water_gun_fast_blastoise : 6.00 , d= 6, e= 4, t=2 \n",
      "low_kick_fast        : 5.75 , d= 4, e= 5, t=2 \n",
      "take_down_fast       : 5.67 , d= 5, e= 8, t=3 \n",
      "zen_headbutt_fast    : 5.67 , d= 8, e= 6, t=3 \n",
      "pound_fast           : 5.00 , d= 4, e= 4, t=2 \n",
      "yawn_fast            : 4.50 , d= 0, e=12, t=4 \n",
      "splash_fast          : 4.50 , d= 0, e=12, t=4 \n"
     ]
    }
   ],
   "source": [
    "gocalc_db.pvp_fast_move_ranking()"
   ]
  },
  {
   "cell_type": "code",
   "execution_count": 2,
   "metadata": {
    "tags": []
   },
   "outputs": [
    {
     "name": "stdout",
     "output_type": "stream",
     "text": [
      "Not taking into account the stat buff/drops.\n",
      "Move name            :  ranking, damage, energy \n",
      "v_create             : 5.94 , d= 95, e= 40 \n",
      "weather_ball_fire    : 4.49 , d= 55, e= 35 \n",
      "fusion_flare         : 4.44 , d= 90, e= 45 \n",
      "blast_burn           : 4.40 , d=110, e= 50 \n",
      "overheat             : 4.30 , d=130, e= 55 \n",
      "magma_storm          : 4.06 , d= 65, e= 40 \n",
      "techno_blast_burn    : 3.97 , d=120, e= 55 \n",
      "blaze_kick           : 3.75 , d= 60, e= 40 \n",
      "fire_punch           : 3.44 , d= 55, e= 40 \n",
      "sacred_fire          : 3.08 , d=130, e= 65 \n",
      "sacred_fire          : 3.08 , d=130, e= 65 \n",
      "sacred_fire          : 3.08 , d=130, e= 65 \n",
      "flamethrower         : 2.98 , d= 90, e= 55 \n",
      "mystical_fire        : 2.96 , d= 60, e= 45 \n",
      "flame_charge         : 2.60 , d= 65, e= 50 \n",
      "flame_burst          : 2.31 , d= 70, e= 55 \n",
      "fire_blast           : 2.19 , d=140, e= 80 \n",
      "flame_wheel          : 1.98 , d= 60, e= 55 \n",
      "heat_wave            : 1.69 , d= 95, e= 75 \n"
     ]
    }
   ],
   "source": [
    "gocalc_db.pvp_charge_move_ranking(pokemon_type=\"pokemon_type_fire\")"
   ]
  },
  {
   "cell_type": "code",
   "execution_count": 6,
   "metadata": {
    "tags": []
   },
   "outputs": [
    {
     "name": "stdout",
     "output_type": "stream",
     "text": [
      "Not taking into account the stat buff/drops.\n",
      "Move name            :  ranking, damage, energy \n",
      "v_create             : 2.38 , d= 95, e= 40 \n",
      "overheat             : 2.36 , d=130, e= 55 \n",
      "leaf_storm           : 2.36 , d=130, e= 55 \n",
      "brave_bird           : 2.36 , d=130, e= 55 \n",
      "roar_of_time         : 2.31 , d=150, e= 65 \n",
      "draco_meteor         : 2.31 , d=150, e= 65 \n",
      "aeroblast            : 2.27 , d=170, e= 75 \n",
      "aeroblast            : 2.27 , d=170, e= 75 \n",
      "aeroblast            : 2.27 , d=170, e= 75 \n",
      "flying_press         : 2.25 , d= 90, e= 40 \n",
      "aura_wheel_electric  : 2.22 , d=100, e= 45 \n",
      "close_combat         : 2.22 , d=100, e= 45 \n",
      "wild_charge          : 2.22 , d=100, e= 45 \n",
      "frenzy_plant         : 2.22 , d=100, e= 45 \n",
      "aura_wheel_electric  : 2.22 , d=100, e= 45 \n",
      "blast_burn           : 2.20 , d=110, e= 50 \n",
      "rock_wrecker         : 2.20 , d=110, e= 50 \n",
      "techno_blast_shock   : 2.18 , d=120, e= 55 \n",
      "techno_blast_water   : 2.18 , d=120, e= 55 \n",
      "techno_blast_burn    : 2.18 , d=120, e= 55 \n",
      "techno_blast_normal  : 2.18 , d=120, e= 55 \n"
     ]
    }
   ],
   "source": [
    "gocalc_db.pvp_charge_move_ranking(top_n=20, energy_weight=0)"
   ]
  },
  {
   "cell_type": "code",
   "execution_count": null,
   "metadata": {},
   "outputs": [],
   "source": []
  }
 ],
 "metadata": {
  "kernelspec": {
   "display_name": "Python 3 (ipykernel)",
   "language": "python",
   "name": "python3"
  },
  "language_info": {
   "codemirror_mode": {
    "name": "ipython",
    "version": 3
   },
   "file_extension": ".py",
   "mimetype": "text/x-python",
   "name": "python",
   "nbconvert_exporter": "python",
   "pygments_lexer": "ipython3",
   "version": "3.11.5"
  }
 },
 "nbformat": 4,
 "nbformat_minor": 4
}
